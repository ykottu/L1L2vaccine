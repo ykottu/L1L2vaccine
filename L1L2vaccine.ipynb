{
 "cells": [
  {
   "cell_type": "markdown",
   "metadata": {},
   "source": [
    "# L1 and L2 Regularized Logistic Regression\n",
    "\n",
    "(You can find all of the code presnted here on my GitHub - https://github.com/JTDean123)\n",
    "\n",
    "The goal of regression is to create a model that can predict the values of a dependent (response) variable based on independent (explanatory or predictor) variables.  The classical ordinary least squares linear regression model attempts to model a continuous dependent variable as a function of independent variables and this takes the form:  \n",
    "\n",
    "\\begin{equation*}\n",
    "y_i   = B_0 + B_1*x_i\n",
    "\\end{equation*}  \n",
    "\n",
    "where y and x represent dependent and independent variables, respectively.  The difference between the actual value of the response variable and the predicted value by the model is referred to as the residual, and based on this the linear regression model is written as:\n",
    "\n",
    "\\begin{equation*}\n",
    "y_i   = B_0 + B_1*x_i + e_i\n",
    "\\end{equation*}  \n",
    "\n",
    "Note that above we show a model with one predictor variable, x, but this model is easily generalized to multivariate form as:\n",
    "\n",
    "\\begin{equation*}\n",
    "y_i = B_0 + \\left( \\sum_{k=1}^n B_k*x_{ik} \\right) + e_i\n",
    "\\end{equation*}  \n",
    "\n",
    "The loss function for ordinary least squares linear regression is the sum of the squares of the residuals (RSS):  \n",
    "\n",
    "\\begin{equation*}\n",
    "RSS =  \\frac{1}{2}\\left( \\sum_{i=1}^n e_i \\right)^2 = \\frac{1}{2}\\left( \\sum_{i=1}^n y_i - (B_0 + B_1*x_i) \\right)^2 \n",
    "\\end{equation*}  \n",
    "\n",
    "As mentioned above, this model is suitable for predicting dependent variables that are continuous, and the model is constrained by infinity:  \n",
    "\n",
    "\\begin{equation*}\n",
    "-{\\infty} < B_0 + B_1*x_i < +{\\infty}\n",
    "\\end{equation*}  \n",
    "\n",
    "However, what options do we have if the dependent variable is not continuous, like height, but is instead binary, like survival?  For example, we might wish to build a regression model to determine survival in the context of a drug treatment as a function of variables like dosing, patient weight, and so on.  Furthermore, we might also wish to assign a probability to a predicted outcome rather than predict a binary outcome.  Predicting a 51% chance of survival may have a different interpretation than a prediction of a 98% chance of survival.  Framed in this way, the above model is not suitable for this application because probabilities take values between zero and one but the linear regression model described above is constrained by infinity.  So, we wish to model a binary outcome based on a linear combination of predictor variables as follows:  \n",
    "\n",
    "\\begin{equation*}\n",
    "P(y=1 | x) = f(B_0 + B_1*x_i) \\\\\n",
    "\\end{equation*} \n",
    "\n",
    "\\begin{equation*}\n",
    "P(y=0 | x) = 1 - P(y=1 | x) = 1 - f(B_0 + B_1*x_i)\n",
    "\\end{equation*}  \n",
    "\n",
    "Where:\n",
    "\n",
    "\\begin{equation*}\n",
    "0 \\leq f(x) \\leq 1\n",
    "\\end{equation*}  \n",
    "\n",
    "One way to accomplish this is to let f be given by the logistic function such that:\n",
    "\n",
    "\\begin{equation*}\n",
    "P(y=1 | x) = \\frac{e^{(B_0 + B_1*x_i)}}{1+e^{(B_0 + B_1*x_i)}} = \\frac{1}{1+e^{-(B_0 + B_1*x_i)}}\n",
    "\\end{equation*}  \n",
    "\n",
    "This logistic function is useful for a number of reasons:  \n",
    "\n",
    "* The probability described by this function is bounded by zero and one  \n",
    "<br>\n",
    "* Increasing the probability for large values of P requires a larger change in x than for values of P close to 0.5 (diminishing returns)\n",
    "\n",
    "Since the logistic regression model described here will predict probabilities we can fit using maximum likelihood.  The likelihood for one observation takes on the same form as that of a Bernoulli random variable:\n",
    "\n",
    "\\begin{equation*}\n",
    "P(y=y_i | x_i) = P(y_i=1 | x_i)^{y_i} * (1 - (P(y_i=1 | x_i))^{1-y_i}\n",
    "\\end{equation*}  \n",
    "\n",
    "The form of this equation is useful because one of the two terms on the right hand side of the equation will drop out depending on the value of y.  For example:\n",
    "\n",
    "\\begin{equation*}\n",
    "y = 1:  \\\\\n",
    "P(y=1 | x_i) = P(y_i=1 | x_i)^{1} * (1 - (P(y_i=1 | x_i))^{1-1} = P(y_i=1 | x_i)\n",
    "\\end{equation*}\n",
    "\n",
    "and, \n",
    "\n",
    "\\begin{equation*}\n",
    "y = 0:  \\\\\n",
    "P(y=0 | x_i) = P(y_i=1 | x_i)^{0} * (1 - (P(y_i=1 | x_i))^{1-0} = 1 - (P(y_i=1 | x_i)\n",
    "\\end{equation*}  \n",
    "\n",
    "The likelihood for more n observation takes on the form:\n",
    "\n",
    "\\begin{equation*}\n",
    "L = \\prod_{i=1}^{n}P(y=y_i | x_i)\n",
    "\\end{equation*}  \n",
    "\n",
    "\\begin{equation*}\n",
    "L = \\prod_{i=1}^{n}P(y_i=1 | x_i)^{y_i} * (1 - (P(y_i=1 | x_i))^{1-y_i}\n",
    "\\end{equation*}  \n",
    "\n",
    "This likelihood is in a troublesome form, and we can ease troubles by applying a montonic transformation by taking the log of the likelihood and turning products into sums:\n",
    "\n",
    "\\begin{equation*}\n",
    "L = \\prod_{i=1}^{n}P(y_i=1 | x_i)^{y_i} * (1 - (P(y_i=1 | x_i))^{1-y_i}\n",
    "\\end{equation*}  \n",
    "\n",
    "\\begin{equation*}\n",
    "L = \\sum_{i=1}^n y_i*log(P(y_i=1 | x_i) + ({1-y_i})*(1 - (P(y_i=1 | x_i))\n",
    "\\end{equation*}  \n",
    "\n",
    "If we re-write:\n",
    "\n",
    "\\begin{equation*}\n",
    "P(y_i=1 | x_i)\n",
    "\\end{equation*}  \n",
    "\n",
    "as the probability that the yi belongs to the class defined as 1, then we can re-write the log likelihood as:\n",
    "\n",
    "\\begin{equation*}\n",
    "L = \\sum_{i=1}^n y_i*log(p_i) + ({1-y_i})*log(1 - (p_i))\n",
    "\\end{equation*}  \n",
    "\n",
    "As before, this likelihood has two components and only one will remain for each i.  Maximum likelihood is next determined by setting the derivative of the log likelihood equal to zero and solving for the model parameters, in this case B0 and B1, and this is done computationally.  Thus the loss function for the logistic regression model is equal to the negative of the log likelihood!  (I think this is a beautiful result).  \n",
    "\n",
    "Therefore the logistic regression loss funciton (J), without regularization, is equal to:\n",
    "\n",
    "\\begin{equation*}\n",
    "J = -\\sum_{i=1}^n y_i*log(p_i) + ({1-y_i})*log(1 - (p_i))\n",
    "\\end{equation*} \n",
    "\n",
    "We also have the option to include regularization in our loss function.  Regularization is a way to prevent overfitting by adding an additional component to the loss function that penalizes for overfitting.  Here we are concerned with two types of regularization:  \n",
    "\n",
    "* L1 regularization:  add the absolute value of all of the coefficients in the model\n",
    "<br>\n",
    "* L2 regularization:  add the square of all of the coefficients in the model\n",
    "\n",
    "Overfitting is typically characterized by models with large coefficients, so regularization presents a strategy for improving the generalizability of a model.\n",
    "\n",
    "For both L1 and L2 regularization the sum or sum of squares of the model coefficients are multiplied by a hyperparameter lambda that controls the strength of regularization.  Intuitively, L2 regularization heavily penalizes large coeffients, and thus aims to assign small values to all coefficients.  In contrast, L1 regularization leads to coeffients becoming sparse during optimization, therefore only a small subset of features will be incorporated into the model.  Which one is better?  The answer to this is the same as for most machine learning questions - it depends!  There is no free lunch!\n",
    "\n",
    "https://en.wikipedia.org/wiki/No_free_lunch_theorem\n",
    "\n",
    "Taken together, we can write our complete loss fuctions for both L1 and L2 regularized logistic regression.\n",
    "\n",
    "**L1 loss function:**\n",
    "\n",
    "\\begin{equation*}\n",
    "J_{L1} = -\\sum_{i=1}^n y_i*log(p_i) + ({1-y_i})*log(1 - (p_i)) + \\Lambda\\|x\\|\n",
    "\\end{equation*} \n",
    "\n",
    "\n",
    "**L2 loss function:**\n",
    "\n",
    "\\begin{equation*}\n",
    "J_{L2} = -\\sum_{i=1}^n y_i*log(p_i) + ({1-y_i})*log(1 - (p_i)) + \\Lambda\\|x\\|^2\n",
    "\\end{equation*} \n",
    "\n",
    "In this example I will compare L1 vs L2 regularized logistic regression for data pertaining to vaccines.  "
   ]
  },
  {
   "cell_type": "markdown",
   "metadata": {
    "collapsed": true
   },
   "source": [
    "# Vaccination Data"
   ]
  },
  {
   "cell_type": "markdown",
   "metadata": {},
   "source": [
    "Whether or not a child completes their suggested vaccinations may depend on multiple factors such as age, race, and insurance.  Barat et al compiled data from 1413 vaccination candidates and collected ten features, including whether or not the patient finished their vaccination program.  Details of the study can be found here:\n",
    "\n",
    "http://ww2.amstat.org/publications/jse/v19n1/barat.pdf  \n",
    "\n",
    "As we have discussed above, this data set lends itself to a logistic regression model since the response variable, vaccine completion, is binary:  either a person was vaccinated or they were not.  Additionally, the following variables are available in this data set-\n",
    "\n",
    "**Age** = the patient's age in years  \n",
    "\n",
    "**AgeGroup** = the age group in which the patient falls (0 = 11-17 years, 1 = 18-26 years)  \n",
    "\n",
    "**Race** = the patient's race (0 = white, 1 = black, 2 = Hispanic, 3 = other/unknown)  \n",
    "\n",
    "**Shots** = the number of shots that the patients completed during a period of 12 months from\n",
    "the time of the first shot  \n",
    "\n",
    "**Completed** = did the patient complete the three-shot regimen within the recommended period\n",
    "of 12 months (0 = no, 1 = yes)  \n",
    "\n",
    "**InsuranceType** = the type of insurance that the patient had (0 = medical assistance, 1 = \n",
    "private payer [Blue Cross Blue Shield, Aetna, Cigna, United, Commercial, CareFirst], 2 = \n",
    "hospital based [EHF], 3 = military [USFHP, Tricare, MA])  \n",
    "\n",
    "**MedAssist** = did the patient have some type of medical assistance (0 = no, 1 = yes)  \n",
    "\n",
    "**Location** = the clinic that the patient attended (1 = Odenton, 2 = White Marsh, 3 = \n",
    "Johns Hopkins Outpatient Center, 4 = Bayview)  \n",
    "\n",
    "**LocationType** = was the clinic in a suburban or an urban location (0 = suburban, 1 = urban)  \n",
    "\n",
    "**PracticeType** = the type of practice that the patient visited (0 = pediatric, 1 = family\n",
    "practice, 2 = OB-GYN)  \n",
    "\n",
    "Before moving forward with a logistic regression model, we state the hypothesis for this study -\n",
    "\n",
    "We can predict whether or not a patient was vaccinated based on their Age, the LocationType, and their Race."
   ]
  },
  {
   "cell_type": "markdown",
   "metadata": {
    "collapsed": false
   },
   "source": [
    "#  Exploratory Data Analysis"
   ]
  },
  {
   "cell_type": "markdown",
   "metadata": {},
   "source": [
    "We start by loading the data set into pandas."
   ]
  },
  {
   "cell_type": "code",
   "execution_count": 257,
   "metadata": {
    "collapsed": false
   },
   "outputs": [],
   "source": [
    "import pandas as pd\n",
    "import matplotlib.pyplot as plt\n",
    "import numpy as np\n",
    "from sklearn.linear_model import LogisticRegressionCV, LogisticRegression\n",
    "from sklearn.metrics import confusion_matrix, roc_auc_score, roc_curve, auc\n",
    "import random\n",
    "random.seed(123)"
   ]
  },
  {
   "cell_type": "code",
   "execution_count": 164,
   "metadata": {
    "collapsed": false
   },
   "outputs": [
    {
     "data": {
      "text/html": [
       "<div>\n",
       "<table border=\"1\" class=\"dataframe\">\n",
       "  <thead>\n",
       "    <tr style=\"text-align: right;\">\n",
       "      <th></th>\n",
       "      <th>Age</th>\n",
       "      <th>AgeGroup</th>\n",
       "      <th>Race</th>\n",
       "      <th>Shots</th>\n",
       "      <th>Completed</th>\n",
       "      <th>InsuranceType</th>\n",
       "      <th>MedAssist</th>\n",
       "      <th>Location</th>\n",
       "      <th>LocationType</th>\n",
       "      <th>PracticeType</th>\n",
       "    </tr>\n",
       "  </thead>\n",
       "  <tbody>\n",
       "    <tr>\n",
       "      <th>0</th>\n",
       "      <td>21</td>\n",
       "      <td>1</td>\n",
       "      <td>0</td>\n",
       "      <td>3</td>\n",
       "      <td>1</td>\n",
       "      <td>3</td>\n",
       "      <td>0</td>\n",
       "      <td>1</td>\n",
       "      <td>0</td>\n",
       "      <td>1</td>\n",
       "    </tr>\n",
       "    <tr>\n",
       "      <th>1</th>\n",
       "      <td>21</td>\n",
       "      <td>1</td>\n",
       "      <td>0</td>\n",
       "      <td>3</td>\n",
       "      <td>1</td>\n",
       "      <td>3</td>\n",
       "      <td>0</td>\n",
       "      <td>1</td>\n",
       "      <td>0</td>\n",
       "      <td>1</td>\n",
       "    </tr>\n",
       "    <tr>\n",
       "      <th>2</th>\n",
       "      <td>20</td>\n",
       "      <td>1</td>\n",
       "      <td>0</td>\n",
       "      <td>1</td>\n",
       "      <td>0</td>\n",
       "      <td>1</td>\n",
       "      <td>0</td>\n",
       "      <td>1</td>\n",
       "      <td>0</td>\n",
       "      <td>1</td>\n",
       "    </tr>\n",
       "    <tr>\n",
       "      <th>3</th>\n",
       "      <td>14</td>\n",
       "      <td>0</td>\n",
       "      <td>0</td>\n",
       "      <td>3</td>\n",
       "      <td>1</td>\n",
       "      <td>3</td>\n",
       "      <td>0</td>\n",
       "      <td>1</td>\n",
       "      <td>0</td>\n",
       "      <td>0</td>\n",
       "    </tr>\n",
       "    <tr>\n",
       "      <th>4</th>\n",
       "      <td>17</td>\n",
       "      <td>0</td>\n",
       "      <td>3</td>\n",
       "      <td>2</td>\n",
       "      <td>0</td>\n",
       "      <td>3</td>\n",
       "      <td>0</td>\n",
       "      <td>1</td>\n",
       "      <td>0</td>\n",
       "      <td>1</td>\n",
       "    </tr>\n",
       "  </tbody>\n",
       "</table>\n",
       "</div>"
      ],
      "text/plain": [
       "   Age  AgeGroup  Race  Shots  Completed  InsuranceType  MedAssist  Location  \\\n",
       "0   21         1     0      3          1              3          0         1   \n",
       "1   21         1     0      3          1              3          0         1   \n",
       "2   20         1     0      1          0              1          0         1   \n",
       "3   14         0     0      3          1              3          0         1   \n",
       "4   17         0     3      2          0              3          0         1   \n",
       "\n",
       "   LocationType  PracticeType  \n",
       "0             0             1  \n",
       "1             0             1  \n",
       "2             0             1  \n",
       "3             0             0  \n",
       "4             0             1  "
      ]
     },
     "execution_count": 164,
     "metadata": {},
     "output_type": "execute_result"
    }
   ],
   "source": [
    "vaccine = pd.read_csv('vaccine.data.csv')\n",
    "vaccine.head()"
   ]
  },
  {
   "cell_type": "markdown",
   "metadata": {},
   "source": [
    "As mentioned above, we will keep the features Age, Race, LocationType, and Completed."
   ]
  },
  {
   "cell_type": "code",
   "execution_count": 165,
   "metadata": {
    "collapsed": false
   },
   "outputs": [
    {
     "data": {
      "text/html": [
       "<div>\n",
       "<table border=\"1\" class=\"dataframe\">\n",
       "  <thead>\n",
       "    <tr style=\"text-align: right;\">\n",
       "      <th></th>\n",
       "      <th>Age</th>\n",
       "      <th>Race</th>\n",
       "      <th>LocationType</th>\n",
       "      <th>Completed</th>\n",
       "    </tr>\n",
       "  </thead>\n",
       "  <tbody>\n",
       "    <tr>\n",
       "      <th>0</th>\n",
       "      <td>21</td>\n",
       "      <td>0</td>\n",
       "      <td>0</td>\n",
       "      <td>1</td>\n",
       "    </tr>\n",
       "    <tr>\n",
       "      <th>1</th>\n",
       "      <td>21</td>\n",
       "      <td>0</td>\n",
       "      <td>0</td>\n",
       "      <td>1</td>\n",
       "    </tr>\n",
       "    <tr>\n",
       "      <th>2</th>\n",
       "      <td>20</td>\n",
       "      <td>0</td>\n",
       "      <td>0</td>\n",
       "      <td>0</td>\n",
       "    </tr>\n",
       "    <tr>\n",
       "      <th>3</th>\n",
       "      <td>14</td>\n",
       "      <td>0</td>\n",
       "      <td>0</td>\n",
       "      <td>1</td>\n",
       "    </tr>\n",
       "    <tr>\n",
       "      <th>4</th>\n",
       "      <td>17</td>\n",
       "      <td>3</td>\n",
       "      <td>0</td>\n",
       "      <td>0</td>\n",
       "    </tr>\n",
       "  </tbody>\n",
       "</table>\n",
       "</div>"
      ],
      "text/plain": [
       "   Age  Race  LocationType  Completed\n",
       "0   21     0             0          1\n",
       "1   21     0             0          1\n",
       "2   20     0             0          0\n",
       "3   14     0             0          1\n",
       "4   17     3             0          0"
      ]
     },
     "execution_count": 165,
     "metadata": {},
     "output_type": "execute_result"
    }
   ],
   "source": [
    "vaccine = vaccine[['Age', 'Race', 'LocationType', 'Completed']]\n",
    "vaccine.head()"
   ]
  },
  {
   "cell_type": "markdown",
   "metadata": {},
   "source": [
    "We next check for any missing data."
   ]
  },
  {
   "cell_type": "code",
   "execution_count": 4,
   "metadata": {
    "collapsed": false
   },
   "outputs": [
    {
     "data": {
      "text/plain": [
       "False"
      ]
     },
     "execution_count": 4,
     "metadata": {},
     "output_type": "execute_result"
    }
   ],
   "source": [
    "vaccine.isnull().values.any()"
   ]
  },
  {
   "cell_type": "markdown",
   "metadata": {},
   "source": [
    "No missing data!  We can now perform exploratory data analysis.  "
   ]
  },
  {
   "cell_type": "code",
   "execution_count": 5,
   "metadata": {
    "collapsed": false
   },
   "outputs": [
    {
     "data": {
      "text/plain": [
       "count    1413.000000\n",
       "mean       18.547063\n",
       "std         4.234129\n",
       "min        11.000000\n",
       "25%        15.000000\n",
       "50%        18.000000\n",
       "75%        22.000000\n",
       "max        26.000000\n",
       "Name: Age, dtype: float64"
      ]
     },
     "execution_count": 5,
     "metadata": {},
     "output_type": "execute_result"
    }
   ],
   "source": [
    "vaccine['Age'].describe()"
   ]
  },
  {
   "cell_type": "markdown",
   "metadata": {
    "collapsed": true
   },
   "source": [
    "The average age is 18.5, and the maximum age is 26 and the minimum is 12.  We can visualize this with a histogram."
   ]
  },
  {
   "cell_type": "code",
   "execution_count": 365,
   "metadata": {
    "collapsed": false
   },
   "outputs": [
    {
     "data": {
      "image/png": "[encoded data removed]",
      "text/plain": [
       "<matplotlib.figure.Figure at 0x113e1d4e0>"
      ]
     },
     "metadata": {},
     "output_type": "display_data"
    }
   ],
   "source": [
    "plot = vaccine['Age'].plot(kind='hist', figsize=(6, 6), legend=False, fontsize=16, edgecolor = 'black', linewidth=2);\n",
    "plot.set_ylabel('Count', fontsize=16)\n",
    "plot.set_xlabel('Age', fontsize=16)\n",
    "plt.show()\n",
    "plt.rcdefaults()"
   ]
  },
  {
   "cell_type": "markdown",
   "metadata": {},
   "source": [
    "We next look at the distribution of races in the study.  As described above, the race data has the following designation:  \n",
    "\n",
    "**Race** = the patient's race (0 = white, 1 = black, 2 = Hispanic, 3 = other/unknown)  "
   ]
  },
  {
   "cell_type": "code",
   "execution_count": 366,
   "metadata": {
    "collapsed": false
   },
   "outputs": [
    {
     "data": {
      "image/png": "[encoded data removed]",
      "text/plain": [
       "<matplotlib.figure.Figure at 0x116c272b0>"
      ]
     },
     "metadata": {},
     "output_type": "display_data"
    }
   ],
   "source": [
    "race = vaccine.groupby('Race')['Race'].count()\n",
    "race = pd.DataFrame(race)\n",
    "types = ['White', 'Black', 'Hispanic', 'other/unknown']\n",
    "types = pd.DataFrame(types)\n",
    "race['type'] = types\n",
    "race = race.set_index('type')\n",
    "race.columns = ['Count']\n",
    "race.head()\n",
    "\n",
    "plot = race['Count'].plot(kind='bar', figsize=(6, 6), fontsize=16, edgecolor = 'black', linewidth=2);\n",
    "plot.set_ylabel('Count', fontsize=16)\n",
    "plot.set_xlabel('Race', fontsize=16)\n",
    "plt.show()\n",
    "plt.rcdefaults()"
   ]
  },
  {
   "cell_type": "markdown",
   "metadata": {},
   "source": [
    "The majority of the patients were White or Black.  We perform similar analysis for location type.  As described above, the following designations are used for LocationType:  \n",
    "\n",
    "**LocationType** = was the clinic in a suburban or an urban location (0 = suburban, 1 = urban)  "
   ]
  },
  {
   "cell_type": "code",
   "execution_count": 367,
   "metadata": {
    "collapsed": false
   },
   "outputs": [
    {
     "data": {
      "image/png": "[encoded data removed]",
      "text/plain": [
       "<matplotlib.figure.Figure at 0x116c276a0>"
      ]
     },
     "metadata": {},
     "output_type": "display_data"
    }
   ],
   "source": [
    "loc = vaccine.groupby('LocationType')['LocationType'].count()\n",
    "loc = pd.DataFrame(loc)\n",
    "types = ['suburban', 'urban']\n",
    "types = pd.DataFrame(types)\n",
    "loc['type'] = types\n",
    "loc = loc.set_index('type')\n",
    "loc.columns = ['Count']\n",
    "loc.head()\n",
    "\n",
    "plot = loc['Count'].plot(kind='bar', figsize=(6, 6), fontsize=16, edgecolor = 'black', linewidth=2);\n",
    "plot.set_ylabel('Count', fontsize=16)\n",
    "plot.set_xlabel('Location Type', fontsize=16)\n",
    "plt.show()\n",
    "plt.rcdefaults()"
   ]
  },
  {
   "cell_type": "markdown",
   "metadata": {},
   "source": [
    "Over 70% of the patients attended a hospital in a suburban location."
   ]
  },
  {
   "cell_type": "code",
   "execution_count": 368,
   "metadata": {
    "collapsed": true
   },
   "outputs": [],
   "source": [
    "import warnings\n",
    "warnings.filterwarnings('ignore')\n",
    "vaccineC = vaccine.copy()\n",
    "\n",
    "for i, loc in enumerate(vaccine['LocationType']):\n",
    "    if loc == 0:\n",
    "        vaccineC['LocationType'][i] = \"suburban\"\n",
    "    else:\n",
    "        vaccineC['LocationType'][i] = \"urban\"\n",
    "\n",
    "for i, loc in enumerate(vaccine['Race']):\n",
    "    if loc == 0:\n",
    "        vaccineC['Race'][i] = \"White\"\n",
    "    elif loc == 1:\n",
    "        vaccineC['Race'][i] = \"Black\"\n",
    "    elif loc == 2:\n",
    "        vaccineC['Race'][i] = \"Hispanic\"\n",
    "    else:\n",
    "        vaccineC['Race'][i] = \"other/unknown\""
   ]
  },
  {
   "cell_type": "code",
   "execution_count": 369,
   "metadata": {
    "collapsed": false
   },
   "outputs": [
    {
     "data": {
      "text/html": [
       "<div>\n",
       "<table border=\"1\" class=\"dataframe\">\n",
       "  <thead>\n",
       "    <tr style=\"text-align: right;\">\n",
       "      <th></th>\n",
       "      <th></th>\n",
       "      <th>Count</th>\n",
       "    </tr>\n",
       "    <tr>\n",
       "      <th>LocationType</th>\n",
       "      <th>Race</th>\n",
       "      <th></th>\n",
       "    </tr>\n",
       "  </thead>\n",
       "  <tbody>\n",
       "    <tr>\n",
       "      <th rowspan=\"4\" valign=\"top\">suburban</th>\n",
       "      <th>Black</th>\n",
       "      <td>245</td>\n",
       "    </tr>\n",
       "    <tr>\n",
       "      <th>Hispanic</th>\n",
       "      <td>21</td>\n",
       "    </tr>\n",
       "    <tr>\n",
       "      <th>White</th>\n",
       "      <td>534</td>\n",
       "    </tr>\n",
       "    <tr>\n",
       "      <th>other/unknown</th>\n",
       "      <td>163</td>\n",
       "    </tr>\n",
       "    <tr>\n",
       "      <th rowspan=\"4\" valign=\"top\">urban</th>\n",
       "      <th>Black</th>\n",
       "      <td>198</td>\n",
       "    </tr>\n",
       "    <tr>\n",
       "      <th>Hispanic</th>\n",
       "      <td>31</td>\n",
       "    </tr>\n",
       "    <tr>\n",
       "      <th>White</th>\n",
       "      <td>198</td>\n",
       "    </tr>\n",
       "    <tr>\n",
       "      <th>other/unknown</th>\n",
       "      <td>23</td>\n",
       "    </tr>\n",
       "  </tbody>\n",
       "</table>\n",
       "</div>"
      ],
      "text/plain": [
       "                            Count\n",
       "LocationType Race                \n",
       "suburban     Black            245\n",
       "             Hispanic          21\n",
       "             White            534\n",
       "             other/unknown    163\n",
       "urban        Black            198\n",
       "             Hispanic          31\n",
       "             White            198\n",
       "             other/unknown     23"
      ]
     },
     "execution_count": 369,
     "metadata": {},
     "output_type": "execute_result"
    }
   ],
   "source": [
    "groups = vaccineC.groupby(['LocationType', 'Race'])['Age'].count()\n",
    "groups = pd.DataFrame(groups)\n",
    "groups.columns = ['Count']\n",
    "groups"
   ]
  },
  {
   "cell_type": "code",
   "execution_count": 54,
   "metadata": {
    "collapsed": false
   },
   "outputs": [
    {
     "data": {
      "image/png": "[encoded data removed]",
      "text/plain": [
       "<matplotlib.figure.Figure at 0x113781a58>"
      ]
     },
     "metadata": {},
     "output_type": "display_data"
    }
   ],
   "source": [
    "groups = groups.unstack(\"LocationType\")\n",
    "plot = groups.plot(kind='bar', figsize=(6, 6), fontsize=16, edgecolor = 'black', linewidth=2);\n",
    "plot.set_ylabel('Count', fontsize=16)\n",
    "plot.set_xlabel('Race', fontsize=16)\n",
    "plt.show()\n",
    "plt.rcdefaults()"
   ]
  },
  {
   "cell_type": "markdown",
   "metadata": {},
   "source": [
    "As shown above, we find that White patients were the biggest race group in suburban hospitals while Black patients were the largest group in urban hospitals.  Finally, we examine vaccine completion for different groups of patients.  First, we calculate the fraction of patients that completed their treatment."
   ]
  },
  {
   "cell_type": "code",
   "execution_count": 454,
   "metadata": {
    "collapsed": false
   },
   "outputs": [
    {
     "data": {
      "text/plain": [
       "0.3319179051663128"
      ]
     },
     "execution_count": 454,
     "metadata": {},
     "output_type": "execute_result"
    }
   ],
   "source": [
    "complete = vaccine['Completed']\n",
    "complete.sum() / len(complete)"
   ]
  },
  {
   "cell_type": "markdown",
   "metadata": {},
   "source": [
    "About one out of three patients completed their treatment.  We next look for a relationship between age and completion."
   ]
  },
  {
   "cell_type": "code",
   "execution_count": 145,
   "metadata": {
    "collapsed": false
   },
   "outputs": [
    {
     "data": {
      "image/png": "[encoded data removed]",
      "text/plain": [
       "<matplotlib.figure.Figure at 0x12cd78c88>"
      ]
     },
     "metadata": {},
     "output_type": "display_data"
    },
    {
     "data": {
      "image/png": "[encoded data removed]",
      "text/plain": [
       "<matplotlib.figure.Figure at 0x116ccb940>"
      ]
     },
     "metadata": {},
     "output_type": "display_data"
    }
   ],
   "source": [
    "ageC = []\n",
    "ageNC = []\n",
    "\n",
    "for i, comp in enumerate(vaccineC['Completed']):\n",
    "    if comp == 1:\n",
    "        ageC.append(vaccineC['Age'][i])\n",
    "    else:\n",
    "        ageNC.append(vaccineC['Age'][i])\n",
    "        \n",
    "plt.hist(ageC, bins=15, alpha=0.5, label='Completed', color='blue')\n",
    "plot.set_ylabel('Age', fontsize=16)\n",
    "plot.set_xlabel('Count', fontsize=16)\n",
    "plt.legend(loc='upper right')\n",
    "plt.show()\n",
    "plt.rcdefaults()\n",
    "\n",
    "plt.hist(ageNC, bins=15, alpha=0.5, label='Did not complete', color='red')\n",
    "plot.set_ylabel('Age', fontsize=16)\n",
    "plot.set_xlabel('Count', fontsize=16)\n",
    "plt.legend(loc='upper right')\n",
    "plt.show()\n",
    "plt.rcdefaults()"
   ]
  },
  {
   "cell_type": "markdown",
   "metadata": {},
   "source": [
    "There does not appear to be a relationship between age and completion of the vaccine program, therefore we will exclude this feature from our model.  We next evaluate vaccine treatment completion and race."
   ]
  },
  {
   "cell_type": "code",
   "execution_count": 146,
   "metadata": {
    "collapsed": false
   },
   "outputs": [
    {
     "data": {
      "text/html": [
       "<div>\n",
       "<table border=\"1\" class=\"dataframe\">\n",
       "  <thead>\n",
       "    <tr style=\"text-align: right;\">\n",
       "      <th></th>\n",
       "      <th></th>\n",
       "      <th>Count</th>\n",
       "    </tr>\n",
       "    <tr>\n",
       "      <th>Race</th>\n",
       "      <th>Completed</th>\n",
       "      <th></th>\n",
       "    </tr>\n",
       "  </thead>\n",
       "  <tbody>\n",
       "    <tr>\n",
       "      <th rowspan=\"2\" valign=\"top\">Black</th>\n",
       "      <th>0</th>\n",
       "      <td>338</td>\n",
       "    </tr>\n",
       "    <tr>\n",
       "      <th>1</th>\n",
       "      <td>105</td>\n",
       "    </tr>\n",
       "    <tr>\n",
       "      <th rowspan=\"2\" valign=\"top\">Hispanic</th>\n",
       "      <th>0</th>\n",
       "      <td>35</td>\n",
       "    </tr>\n",
       "    <tr>\n",
       "      <th>1</th>\n",
       "      <td>17</td>\n",
       "    </tr>\n",
       "    <tr>\n",
       "      <th rowspan=\"2\" valign=\"top\">White</th>\n",
       "      <th>0</th>\n",
       "      <td>452</td>\n",
       "    </tr>\n",
       "    <tr>\n",
       "      <th>1</th>\n",
       "      <td>280</td>\n",
       "    </tr>\n",
       "    <tr>\n",
       "      <th rowspan=\"2\" valign=\"top\">other/unknown</th>\n",
       "      <th>0</th>\n",
       "      <td>119</td>\n",
       "    </tr>\n",
       "    <tr>\n",
       "      <th>1</th>\n",
       "      <td>67</td>\n",
       "    </tr>\n",
       "  </tbody>\n",
       "</table>\n",
       "</div>"
      ],
      "text/plain": [
       "                         Count\n",
       "Race          Completed       \n",
       "Black         0            338\n",
       "              1            105\n",
       "Hispanic      0             35\n",
       "              1             17\n",
       "White         0            452\n",
       "              1            280\n",
       "other/unknown 0            119\n",
       "              1             67"
      ]
     },
     "execution_count": 146,
     "metadata": {},
     "output_type": "execute_result"
    }
   ],
   "source": [
    "completeGroup = vaccineC.groupby(['Race', 'Completed'])['Age'].count()\n",
    "completeGroup = pd.DataFrame(completeGroup)\n",
    "completeGroup.columns = ['Count']\n",
    "completeGroup"
   ]
  },
  {
   "cell_type": "code",
   "execution_count": 98,
   "metadata": {
    "collapsed": false
   },
   "outputs": [
    {
     "data": {
      "image/png": "[encoded data removed]",
      "text/plain": [
       "<matplotlib.figure.Figure at 0x116c4e198>"
      ]
     },
     "metadata": {},
     "output_type": "display_data"
    }
   ],
   "source": [
    "completeGroup = completeGroup.unstack(\"Completed\")\n",
    "completeGroup.columns = ['Did not complete', 'Completed']\n",
    "plot = completeGroup.plot(kind='bar', figsize=(6, 6), fontsize=16, edgecolor = 'black', linewidth=2);\n",
    "plot.set_ylabel('Count', fontsize=16)\n",
    "plot.set_xlabel('Race', fontsize=16)\n",
    "plt.show()\n",
    "plt.rcdefaults()"
   ]
  },
  {
   "cell_type": "markdown",
   "metadata": {},
   "source": [
    "The majority of patients in all race groups did not complete the vaccination program."
   ]
  },
  {
   "cell_type": "markdown",
   "metadata": {},
   "source": [
    "# Logistic Regression Models "
   ]
  },
  {
   "cell_type": "markdown",
   "metadata": {},
   "source": [
    "Now that we have cleaned up the data set and extracted relevant features we are in a position to create L1 and L2 regularized logistic regression models.  As mentioned above, we will remove the Age feature from the model."
   ]
  },
  {
   "cell_type": "code",
   "execution_count": 166,
   "metadata": {
    "collapsed": false
   },
   "outputs": [],
   "source": [
    "vaccine = vaccine.ix[:, vaccine.columns != 'Age']"
   ]
  },
  {
   "cell_type": "markdown",
   "metadata": {},
   "source": [
    "The first step in this supervised machine learning exercise is convert Race and LocationType to categorical dummy variables and split the data into test and training sets (70:30).  Note that when we use dummy variables we exclude one of them, in this case the first one, to avoid collinearity.  "
   ]
  },
  {
   "cell_type": "code",
   "execution_count": 167,
   "metadata": {
    "collapsed": false
   },
   "outputs": [],
   "source": [
    "dummy_ranks = pd.get_dummies(vaccine['Race'], prefix='Race')\n",
    "dummy_ranks2 = pd.get_dummies(vaccine['LocationType'], prefix='LocationType')\n",
    "vaccine = vaccine[['Completed']].join(dummy_ranks.ix[:,'Race_1':])\n",
    "vaccine = vaccine[list(vaccine)].join(dummy_ranks2.ix[:,'LocationType_1':])"
   ]
  },
  {
   "cell_type": "code",
   "execution_count": 168,
   "metadata": {
    "collapsed": true
   },
   "outputs": [],
   "source": [
    "msk = np.random.rand(len(vaccine)) < 0.7\n",
    "vaccineTrain = vaccine[msk]\n",
    "vaccineTest = vaccine[~msk]\n",
    "\n",
    "vaccineTrain_features = np.array(vaccineTrain.ix[:, vaccineTrain.columns != 'Completed'])\n",
    "vaccineTrain_lables = np.array(vaccineTrain[['Completed']])\n",
    "vaccineTrain_lables = vaccineTrain_lables.ravel()\n",
    "\n",
    "vaccineTest_features = np.array(vaccineTest.ix[:, vaccineTest.columns != 'Completed'])\n",
    "vaccineTest_lables = np.array(vaccineTest[['Completed']])\n",
    "vaccineTest_lables = vaccineTest_lables.ravel()"
   ]
  },
  {
   "cell_type": "markdown",
   "metadata": {},
   "source": [
    "Next we do hyperparameter tuning with both L1 and L2 regularized logistic regression using the liblinear solver (the only one that supports L1 regularization), create a model, and then make prediction.  The variable that we are searching for here is 'C', the regularization coefficient, and we will find this using ten fold cross validation.  After tuning, we fit the model and then make predictions with the test data."
   ]
  },
  {
   "cell_type": "code",
   "execution_count": 169,
   "metadata": {
    "collapsed": false
   },
   "outputs": [],
   "source": [
    "L1cv = LogisticRegressionCV(Cs=list(np.power(10.0, np.arange(-10, 10))), random_state=333, scoring='neg_log_loss', cv=10, penalty='l1', solver='liblinear')\n",
    "L1cv.fit(vaccineTrain_features, vaccineTrain_lables)\n",
    "predsL1 = L1cv.predict(vaccineTest_features)\n",
    "\n",
    "L2cv = LogisticRegressionCV(Cs=list(np.power(10.0, np.arange(-10, 10))),random_state=333, scoring='neg_log_loss', cv=10, penalty='l2', solver='liblinear')\n",
    "L2cv.fit(vaccineTrain_features, vaccineTrain_lables)\n",
    "predsL2 = L2cv.predict(vaccineTest_features)"
   ]
  },
  {
   "cell_type": "markdown",
   "metadata": {},
   "source": [
    "Now that we have tuned model parameters and used the model to fit our test data we can look evaluate the predictions with confusion matrices.  We first look at the L1 model confusion matrix."
   ]
  },
  {
   "cell_type": "code",
   "execution_count": 170,
   "metadata": {
    "collapsed": false
   },
   "outputs": [
    {
     "data": {
      "text/html": [
       "<div>\n",
       "<table border=\"1\" class=\"dataframe\">\n",
       "  <thead>\n",
       "    <tr style=\"text-align: right;\">\n",
       "      <th></th>\n",
       "      <th>Predicted 0</th>\n",
       "      <th>Predicted 1</th>\n",
       "    </tr>\n",
       "  </thead>\n",
       "  <tbody>\n",
       "    <tr>\n",
       "      <th>Actual 0</th>\n",
       "      <td>328</td>\n",
       "      <td>0</td>\n",
       "    </tr>\n",
       "    <tr>\n",
       "      <th>Actual 1</th>\n",
       "      <td>128</td>\n",
       "      <td>0</td>\n",
       "    </tr>\n",
       "  </tbody>\n",
       "</table>\n",
       "</div>"
      ],
      "text/plain": [
       "          Predicted 0  Predicted 1\n",
       "Actual 0          328            0\n",
       "Actual 1          128            0"
      ]
     },
     "execution_count": 170,
     "metadata": {},
     "output_type": "execute_result"
    }
   ],
   "source": [
    "# L1 regularized logistic regression confusion matrix\n",
    "l1v1 = pd.DataFrame(confusion_matrix(vaccineTest_lables, predsL1))\n",
    "l1v1.columns = ['Predicted 0', 'Predicted 1']\n",
    "l1v1.index = ['Actual 0', 'Actual 1']\n",
    "l1v1"
   ]
  },
  {
   "cell_type": "code",
   "execution_count": 171,
   "metadata": {
    "collapsed": false
   },
   "outputs": [
    {
     "data": {
      "text/html": [
       "<div>\n",
       "<table border=\"1\" class=\"dataframe\">\n",
       "  <thead>\n",
       "    <tr style=\"text-align: right;\">\n",
       "      <th></th>\n",
       "      <th>Predicted 0</th>\n",
       "      <th>Predicted 1</th>\n",
       "    </tr>\n",
       "  </thead>\n",
       "  <tbody>\n",
       "    <tr>\n",
       "      <th>Actual 0</th>\n",
       "      <td>328</td>\n",
       "      <td>0</td>\n",
       "    </tr>\n",
       "    <tr>\n",
       "      <th>Actual 1</th>\n",
       "      <td>128</td>\n",
       "      <td>0</td>\n",
       "    </tr>\n",
       "  </tbody>\n",
       "</table>\n",
       "</div>"
      ],
      "text/plain": [
       "          Predicted 0  Predicted 1\n",
       "Actual 0          328            0\n",
       "Actual 1          128            0"
      ]
     },
     "execution_count": 171,
     "metadata": {},
     "output_type": "execute_result"
    }
   ],
   "source": [
    "# L2 regularized logistic regression confusion matrix\n",
    "l2v1 = pd.DataFrame(confusion_matrix(vaccineTest_lables, predsL2))\n",
    "l2v1.columns = ['Predicted 0', 'Predicted 1']\n",
    "l2v1.index = ['Actual 0', 'Actual 1']\n",
    "l2v1"
   ]
  },
  {
   "cell_type": "markdown",
   "metadata": {},
   "source": [
    "Both of the models predict a label of 0 for all of the test observations!  This implies that the model is no better than a random guess, as the true positive rate equals the false positive rate.  \n",
    "\n",
    "<br>\n",
    "The true positive rate is given as:  true positive / (true positive + false negative)  \n",
    "\n",
    "The false positive rate is given as:  false positive / (false positive + true negative)  \n",
    "\n",
    "Therefore, the true positive rate for the two cases above is equal to:  0 / (0 + 128) = 0\n",
    "\n",
    "and the false positive rate is equal to:  0 / (0 + 328) = 0  \n",
    "\n",
    "<br>\n",
    "\n",
    "To (try to) improve the predictive power of this model we will add additional features:  \n",
    "\n",
    "**InsuranceType** = the type of insurance that the patient had (0 = medical assistance, 1 = \n",
    "private payer [Blue Cross Blue Shield, Aetna, Cigna, United, Commercial, CareFirst], 2 = \n",
    "hospital based [EHF], 3 = military [USFHP, Tricare, MA])  \n",
    "\n",
    "**Location** = the clinic that the patient attended (1 = Odenton, 2 = White Marsh, 3 = \n",
    "Johns Hopkins Outpatient Center, 4 = Bayview)  \n",
    "\n",
    "**MedAssist** = did the patient have some type of medical assistance (0 = no, 1 = yes)\n",
    "\n",
    "**PracticeType** = the type of practice that the patient visited (0 = pediatric, 1 = family practice, 2 = OB-GYN)\n",
    "\n",
    "**AgeGroup** = the age group in which the patient falls (0 = 11-17 years, 1 = 18-26 years)  "
   ]
  },
  {
   "cell_type": "code",
   "execution_count": 227,
   "metadata": {
    "collapsed": false
   },
   "outputs": [
    {
     "data": {
      "text/html": [
       "<div>\n",
       "<table border=\"1\" class=\"dataframe\">\n",
       "  <thead>\n",
       "    <tr style=\"text-align: right;\">\n",
       "      <th></th>\n",
       "      <th>InsuranceType</th>\n",
       "      <th>Location</th>\n",
       "      <th>MedAssist</th>\n",
       "      <th>Race</th>\n",
       "      <th>LocationType</th>\n",
       "      <th>Completed</th>\n",
       "      <th>PracticeType</th>\n",
       "      <th>AgeGroup</th>\n",
       "    </tr>\n",
       "  </thead>\n",
       "  <tbody>\n",
       "    <tr>\n",
       "      <th>0</th>\n",
       "      <td>3</td>\n",
       "      <td>1</td>\n",
       "      <td>0</td>\n",
       "      <td>0</td>\n",
       "      <td>0</td>\n",
       "      <td>1</td>\n",
       "      <td>1</td>\n",
       "      <td>1</td>\n",
       "    </tr>\n",
       "    <tr>\n",
       "      <th>1</th>\n",
       "      <td>3</td>\n",
       "      <td>1</td>\n",
       "      <td>0</td>\n",
       "      <td>0</td>\n",
       "      <td>0</td>\n",
       "      <td>1</td>\n",
       "      <td>1</td>\n",
       "      <td>1</td>\n",
       "    </tr>\n",
       "    <tr>\n",
       "      <th>2</th>\n",
       "      <td>1</td>\n",
       "      <td>1</td>\n",
       "      <td>0</td>\n",
       "      <td>0</td>\n",
       "      <td>0</td>\n",
       "      <td>0</td>\n",
       "      <td>1</td>\n",
       "      <td>1</td>\n",
       "    </tr>\n",
       "    <tr>\n",
       "      <th>3</th>\n",
       "      <td>3</td>\n",
       "      <td>1</td>\n",
       "      <td>0</td>\n",
       "      <td>0</td>\n",
       "      <td>0</td>\n",
       "      <td>1</td>\n",
       "      <td>0</td>\n",
       "      <td>0</td>\n",
       "    </tr>\n",
       "    <tr>\n",
       "      <th>4</th>\n",
       "      <td>3</td>\n",
       "      <td>1</td>\n",
       "      <td>0</td>\n",
       "      <td>3</td>\n",
       "      <td>0</td>\n",
       "      <td>0</td>\n",
       "      <td>1</td>\n",
       "      <td>0</td>\n",
       "    </tr>\n",
       "  </tbody>\n",
       "</table>\n",
       "</div>"
      ],
      "text/plain": [
       "   InsuranceType  Location  MedAssist  Race  LocationType  Completed  \\\n",
       "0              3         1          0     0             0          1   \n",
       "1              3         1          0     0             0          1   \n",
       "2              1         1          0     0             0          0   \n",
       "3              3         1          0     0             0          1   \n",
       "4              3         1          0     3             0          0   \n",
       "\n",
       "   PracticeType  AgeGroup  \n",
       "0             1         1  \n",
       "1             1         1  \n",
       "2             1         1  \n",
       "3             0         0  \n",
       "4             1         0  "
      ]
     },
     "execution_count": 227,
     "metadata": {},
     "output_type": "execute_result"
    }
   ],
   "source": [
    "vaccine = pd.read_csv('vaccine.data.csv')\n",
    "vaccine = vaccine[['InsuranceType', 'Location', 'MedAssist', 'Race', 'LocationType','Completed', 'PracticeType', 'AgeGroup']]\n",
    "vaccine.head()"
   ]
  },
  {
   "cell_type": "markdown",
   "metadata": {},
   "source": [
    "As above, we now create dummy variables for the categorical variables."
   ]
  },
  {
   "cell_type": "code",
   "execution_count": 228,
   "metadata": {
    "collapsed": false
   },
   "outputs": [
    {
     "data": {
      "text/html": [
       "<div>\n",
       "<table border=\"1\" class=\"dataframe\">\n",
       "  <thead>\n",
       "    <tr style=\"text-align: right;\">\n",
       "      <th></th>\n",
       "      <th>Completed</th>\n",
       "      <th>MedAssist</th>\n",
       "      <th>Race_1</th>\n",
       "      <th>Race_2</th>\n",
       "      <th>Race_3</th>\n",
       "      <th>LocationType_1</th>\n",
       "      <th>InsuranceType_1</th>\n",
       "      <th>InsuranceType_2</th>\n",
       "      <th>InsuranceType_3</th>\n",
       "      <th>Location_1</th>\n",
       "      <th>Location_2</th>\n",
       "      <th>Location_3</th>\n",
       "      <th>Location_4</th>\n",
       "      <th>PracticeType_1</th>\n",
       "      <th>PracticeType_2</th>\n",
       "    </tr>\n",
       "  </thead>\n",
       "  <tbody>\n",
       "    <tr>\n",
       "      <th>0</th>\n",
       "      <td>1</td>\n",
       "      <td>0</td>\n",
       "      <td>0</td>\n",
       "      <td>0</td>\n",
       "      <td>0</td>\n",
       "      <td>0</td>\n",
       "      <td>0</td>\n",
       "      <td>0</td>\n",
       "      <td>1</td>\n",
       "      <td>1</td>\n",
       "      <td>0</td>\n",
       "      <td>0</td>\n",
       "      <td>0</td>\n",
       "      <td>1</td>\n",
       "      <td>0</td>\n",
       "    </tr>\n",
       "    <tr>\n",
       "      <th>1</th>\n",
       "      <td>1</td>\n",
       "      <td>0</td>\n",
       "      <td>0</td>\n",
       "      <td>0</td>\n",
       "      <td>0</td>\n",
       "      <td>0</td>\n",
       "      <td>0</td>\n",
       "      <td>0</td>\n",
       "      <td>1</td>\n",
       "      <td>1</td>\n",
       "      <td>0</td>\n",
       "      <td>0</td>\n",
       "      <td>0</td>\n",
       "      <td>1</td>\n",
       "      <td>0</td>\n",
       "    </tr>\n",
       "    <tr>\n",
       "      <th>2</th>\n",
       "      <td>0</td>\n",
       "      <td>0</td>\n",
       "      <td>0</td>\n",
       "      <td>0</td>\n",
       "      <td>0</td>\n",
       "      <td>0</td>\n",
       "      <td>1</td>\n",
       "      <td>0</td>\n",
       "      <td>0</td>\n",
       "      <td>1</td>\n",
       "      <td>0</td>\n",
       "      <td>0</td>\n",
       "      <td>0</td>\n",
       "      <td>1</td>\n",
       "      <td>0</td>\n",
       "    </tr>\n",
       "    <tr>\n",
       "      <th>3</th>\n",
       "      <td>1</td>\n",
       "      <td>0</td>\n",
       "      <td>0</td>\n",
       "      <td>0</td>\n",
       "      <td>0</td>\n",
       "      <td>0</td>\n",
       "      <td>0</td>\n",
       "      <td>0</td>\n",
       "      <td>1</td>\n",
       "      <td>1</td>\n",
       "      <td>0</td>\n",
       "      <td>0</td>\n",
       "      <td>0</td>\n",
       "      <td>0</td>\n",
       "      <td>0</td>\n",
       "    </tr>\n",
       "    <tr>\n",
       "      <th>4</th>\n",
       "      <td>0</td>\n",
       "      <td>0</td>\n",
       "      <td>0</td>\n",
       "      <td>0</td>\n",
       "      <td>1</td>\n",
       "      <td>0</td>\n",
       "      <td>0</td>\n",
       "      <td>0</td>\n",
       "      <td>1</td>\n",
       "      <td>1</td>\n",
       "      <td>0</td>\n",
       "      <td>0</td>\n",
       "      <td>0</td>\n",
       "      <td>1</td>\n",
       "      <td>0</td>\n",
       "    </tr>\n",
       "  </tbody>\n",
       "</table>\n",
       "</div>"
      ],
      "text/plain": [
       "   Completed  MedAssist  Race_1  Race_2  Race_3  LocationType_1  \\\n",
       "0          1          0       0       0       0               0   \n",
       "1          1          0       0       0       0               0   \n",
       "2          0          0       0       0       0               0   \n",
       "3          1          0       0       0       0               0   \n",
       "4          0          0       0       0       1               0   \n",
       "\n",
       "   InsuranceType_1  InsuranceType_2  InsuranceType_3  Location_1  Location_2  \\\n",
       "0                0                0                1           1           0   \n",
       "1                0                0                1           1           0   \n",
       "2                1                0                0           1           0   \n",
       "3                0                0                1           1           0   \n",
       "4                0                0                1           1           0   \n",
       "\n",
       "   Location_3  Location_4  PracticeType_1  PracticeType_2  \n",
       "0           0           0               1               0  \n",
       "1           0           0               1               0  \n",
       "2           0           0               1               0  \n",
       "3           0           0               0               0  \n",
       "4           0           0               1               0  "
      ]
     },
     "execution_count": 228,
     "metadata": {},
     "output_type": "execute_result"
    }
   ],
   "source": [
    "dummy_ranks = pd.get_dummies(vaccine['Race'], prefix='Race')\n",
    "dummy_ranks2 = pd.get_dummies(vaccine['LocationType'], prefix='LocationType')\n",
    "dummy_ranks3 = pd.get_dummies(vaccine['InsuranceType'], prefix='InsuranceType')\n",
    "dummy_ranks4 = pd.get_dummies(vaccine['Location'], prefix='Location')\n",
    "dummy_ranks5 = pd.get_dummies(vaccine['PracticeType'], prefix='PracticeType')\n",
    "\n",
    "vaccine = vaccine[['Completed', 'MedAssist']].join(dummy_ranks.ix[:,'Race_1':])\n",
    "vaccine = vaccine[list(vaccine)].join(dummy_ranks2.ix[:,'LocationType_1':])\n",
    "vaccine = vaccine[list(vaccine)].join(dummy_ranks3.ix[:,'InsuranceType_1':])\n",
    "vaccine = vaccine[list(vaccine)].join(dummy_ranks4.ix[:,'Location_1':])\n",
    "vaccine = vaccine[list(vaccine)].join(dummy_ranks5.ix[:,'PracticeType_1':])"
   ]
  },
  {
   "cell_type": "markdown",
   "metadata": {},
   "source": [
    "And, exactly as above, we tune, build a model, and make predictions."
   ]
  },
  {
   "cell_type": "code",
   "execution_count": 241,
   "metadata": {
    "collapsed": false
   },
   "outputs": [],
   "source": [
    "msk = np.random.rand(len(vaccine)) < 0.7\n",
    "vaccineTrain = vaccine[msk]\n",
    "vaccineTest = vaccine[~msk]\n",
    "\n",
    "vaccineTrain_features = np.array(vaccineTrain.ix[:, vaccineTrain.columns != 'Completed'])\n",
    "vaccineTrain_lables = np.array(vaccineTrain[['Completed']])\n",
    "vaccineTrain_lables = vaccineTrain_lables.ravel()\n",
    "\n",
    "vaccineTest_features = np.array(vaccineTest.ix[:, vaccineTest.columns != 'Completed'])\n",
    "vaccineTest_lables = np.array(vaccineTest[['Completed']])\n",
    "vaccineTest_lables = vaccineTest_lables.ravel()\n",
    "\n",
    "L1cv = LogisticRegressionCV(Cs=list(np.power(10.0, np.arange(-10, 10))),  random_state=333, scoring='neg_log_loss', penalty='l1', solver='liblinear', max_iter=10000)\n",
    "L1cv.fit(vaccineTrain_features, vaccineTrain_lables)\n",
    "predsL1 = L1cv.predict(vaccineTest_features)\n",
    "\n",
    "L2cv = LogisticRegressionCV(Cs=list(np.power(10.0, np.arange(-10, 10))), random_state=333, scoring='neg_log_loss', cv=10, penalty='l2', solver='liblinear', max_iter=10000)\n",
    "L2cv = LogisticRegression()\n",
    "L2cv.fit(vaccineTrain_features, vaccineTrain_lables)\n",
    "predsL2 = L2cv.predict(vaccineTest_features)"
   ]
  },
  {
   "cell_type": "markdown",
   "metadata": {},
   "source": [
    "We next view the model results with confusion matricies."
   ]
  },
  {
   "cell_type": "code",
   "execution_count": 230,
   "metadata": {
    "collapsed": false
   },
   "outputs": [
    {
     "data": {
      "text/html": [
       "<div>\n",
       "<table border=\"1\" class=\"dataframe\">\n",
       "  <thead>\n",
       "    <tr style=\"text-align: right;\">\n",
       "      <th></th>\n",
       "      <th>Predicted 0</th>\n",
       "      <th>Predicted 1</th>\n",
       "    </tr>\n",
       "  </thead>\n",
       "  <tbody>\n",
       "    <tr>\n",
       "      <th>Actual 0</th>\n",
       "      <td>289</td>\n",
       "      <td>0</td>\n",
       "    </tr>\n",
       "    <tr>\n",
       "      <th>Actual 1</th>\n",
       "      <td>149</td>\n",
       "      <td>0</td>\n",
       "    </tr>\n",
       "  </tbody>\n",
       "</table>\n",
       "</div>"
      ],
      "text/plain": [
       "          Predicted 0  Predicted 1\n",
       "Actual 0          289            0\n",
       "Actual 1          149            0"
      ]
     },
     "execution_count": 230,
     "metadata": {},
     "output_type": "execute_result"
    }
   ],
   "source": [
    "# L1 regularized logistic regression confusion matrix\n",
    "l1v2 = pd.DataFrame(confusion_matrix(vaccineTest_lables, predsL1))\n",
    "l1v2.columns = ['Predicted 0', 'Predicted 1']\n",
    "l1v2.index = ['Actual 0', 'Actual 1']\n",
    "l1v2"
   ]
  },
  {
   "cell_type": "code",
   "execution_count": 231,
   "metadata": {
    "collapsed": false
   },
   "outputs": [
    {
     "data": {
      "text/html": [
       "<div>\n",
       "<table border=\"1\" class=\"dataframe\">\n",
       "  <thead>\n",
       "    <tr style=\"text-align: right;\">\n",
       "      <th></th>\n",
       "      <th>Predicted 0</th>\n",
       "      <th>Predicted 1</th>\n",
       "    </tr>\n",
       "  </thead>\n",
       "  <tbody>\n",
       "    <tr>\n",
       "      <th>Actual 0</th>\n",
       "      <td>268</td>\n",
       "      <td>21</td>\n",
       "    </tr>\n",
       "    <tr>\n",
       "      <th>Actual 1</th>\n",
       "      <td>131</td>\n",
       "      <td>18</td>\n",
       "    </tr>\n",
       "  </tbody>\n",
       "</table>\n",
       "</div>"
      ],
      "text/plain": [
       "          Predicted 0  Predicted 1\n",
       "Actual 0          268           21\n",
       "Actual 1          131           18"
      ]
     },
     "execution_count": 231,
     "metadata": {},
     "output_type": "execute_result"
    }
   ],
   "source": [
    "# L2 regularized logistic regression confusion matrix\n",
    "l2v2 = pd.DataFrame(confusion_matrix(vaccineTest_lables, predsL2))\n",
    "l2v2.columns = ['Predicted 0', 'Predicted 1']\n",
    "l2v2.index = ['Actual 0', 'Actual 1']\n",
    "l2v2"
   ]
  },
  {
   "cell_type": "markdown",
   "metadata": {},
   "source": [
    "By adding new features to the model we have improved the predictive power of the L2 regularized model.  \n",
    "\n",
    "Using the definitions of true positive and false positive rates from above we have: \n",
    "\n",
    "true positive rate :  18 / (18 + 131) = 0.12\n",
    "\n",
    "false positive rate:  21 / (21 + 268) = 0.07\n",
    "\n",
    "So, for the L2 regularized model we have increased the true positive rate but unfortunately we have also increased the false positive rate.  We can better visualize this tradeoff between true positive rate and false positive rate with a ROC curve."
   ]
  },
  {
   "cell_type": "code",
   "execution_count": 281,
   "metadata": {
    "collapsed": false
   },
   "outputs": [
    {
     "data": {
      "image/png": "[encoded data removed]",
      "text/plain": [
       "<matplotlib.figure.Figure at 0x119a313c8>"
      ]
     },
     "metadata": {},
     "output_type": "display_data"
    }
   ],
   "source": [
    "pred1 = L1cv.predict_proba(vaccineTest_features)[:,1]\n",
    "fpr1, tpr1, _ = roc_curve(vaccineTest_lables, pred1)\n",
    "roc_auc1 = auc(fpr1, tpr1)\n",
    "\n",
    "pred2 = L2cv.predict_proba(vaccineTest_features)[:,1]\n",
    "fpr2, tpr2, _ = roc_curve(vaccineTest_lables, pred2)\n",
    "roc_auc2 = auc(fpr2, tpr2)\n",
    "\n",
    "fig = plt.figure(figsize=(8, 8))\n",
    "ax1 = fig.add_subplot(111)\n",
    "\n",
    "ax1.plot(fpr1, tpr1, 'b', label = 'L1 AUC = %0.2f' % roc_auc1, color='yellow');\n",
    "ax1.plot(fpr2, tpr2, 'b', label = 'L2 AUC = %0.2f' % roc_auc2)\n",
    "plt.legend(loc = 'upper left')\n",
    "ax1.plot([0, 1], [0, 1],'r--')\n",
    "plt.xlim([0, 1])\n",
    "plt.ylim([0, 1])\n",
    "plt.ylabel('True Positive Rate', fontsize=16)\n",
    "plt.xlabel('False Positive Rate', fontsize=16)\n",
    "plt.show()"
   ]
  },
  {
   "cell_type": "markdown",
   "metadata": {},
   "source": [
    "The ROC curve allows us to visualize the tradeoff between true positive and false positive rates as a function of cutoff threshold probabilities.  The area under a ROC curve for a model, AUC, allows us to quantitatively evaluate how well a binary classifier performs.  When a true positive rate equals the false positive rate the model has an AUC of 0.5.  This means that for a randomly selected sample with a label of 1 the probability of classifying it as 1 is equal to that of classifying it as 0.  As we found above, the L1 regularized model, which predicted a 0 label for all samples in the test set, had true positive rates equal to false positive rates for the threshold used in the predictive model.  As seen in the plot above, we find that the AUC of this L1 model is equal to 0.5, indicating that it is no better than a random guess.  However, we find that the AUC for the L2 model is 0.61, indicating that this model has better predictive performance than the L1 regularized model.  An AUC of of 0.61, although better than random, is generally not a great score.  I suspect that the features collected in this data set do not capture the variance in the vaccine completed label.  Additional things to try?  I suggest trying a SVM or random forest, but I will leave this for you!"
   ]
  },
  {
   "cell_type": "code",
   "execution_count": null,
   "metadata": {
    "collapsed": true
   },
   "outputs": [],
   "source": []
  }
 ],
 "metadata": {
  "kernelspec": {
   "display_name": "Python 3",
   "language": "python",
   "name": "python3"
  },
  "language_info": {
   "codemirror_mode": {
    "name": "ipython",
    "version": 3
   },
   "file_extension": ".py",
   "mimetype": "text/x-python",
   "name": "python",
   "nbconvert_exporter": "python",
   "pygments_lexer": "ipython3",
   "version": "3.6.0"
  }
 },
 "nbformat": 4,
 "nbformat_minor": 2
}
